{
 "cells": [
  {
   "cell_type": "markdown",
   "id": "c3fef90e",
   "metadata": {},
   "source": [
    "Fully supervised learning"
   ]
  },
  {
   "cell_type": "code",
   "execution_count": 1,
   "id": "ebc3303a",
   "metadata": {},
   "outputs": [],
   "source": [
    "import mlflow\n",
    "from camelyon.log_ops import TRACKING_URI\n",
    "\n",
    "mlflow.set_tracking_uri(TRACKING_URI)"
   ]
  },
  {
   "cell_type": "code",
   "execution_count": 2,
   "id": "9ab10930",
   "metadata": {},
   "outputs": [],
   "source": [
    "from camelyon.log_ops import get_child_run_ids\n",
    "parent_ids = [\n",
    "    \"f08b1ffb953642beac10eed1123fa86e\",\n",
    "    \"d53a4bccacef49fba18dbb84c729642e\",\n",
    "    \"6af66ffd58974a528b548ae14a1949fa\",\n",
    "    \"33d9a428338d439c87ef3d71b56b4bba\",\n",
    "    \"a78b200c4852456487610601498c5918\",\n",
    "    \"01b9199b25c2458bb75c846c416f6c03\",\n",
    "    \"e6abbddc1f7e4e7a96e8fc3db52dff38\",\n",
    "]\n",
    "\n",
    "rows = list()\n",
    "for parent_id in parent_ids:\n",
    "    run_ids = get_child_run_ids(parent_id)\n",
    "\n",
    "    for run_id in run_ids:\n",
    "        row = mlflow.get_run(run_id)\n",
    "        if \"test_auroc\" not in row.data.metrics:\n",
    "            continue\n",
    "        auroc = row.data.metrics[\"test_auroc\"]\n",
    "        auprc = row.data.metrics[\"test_prauc\"]\n",
    "        sampling_ratio = row.data.params[\"sampling_ratio\"]\n",
    "        \n",
    "        rows.append({\"auroc\":auroc, \"auprc\":auprc, \"sampling_ratio\":sampling_ratio})"
   ]
  },
  {
   "cell_type": "code",
   "execution_count": 4,
   "id": "0e6bc4de",
   "metadata": {},
   "outputs": [
    {
     "name": "stderr",
     "output_type": "stream",
     "text": [
      "/home/heon/anaconda3/envs/camelyon/lib/python3.8/site-packages/seaborn/rcmod.py:82: DeprecationWarning: distutils Version classes are deprecated. Use packaging.version instead.\n",
      "  if LooseVersion(mpl.__version__) >= \"3.0\":\n",
      "/home/heon/anaconda3/envs/camelyon/lib/python3.8/site-packages/setuptools/_distutils/version.py:337: DeprecationWarning: distutils Version classes are deprecated. Use packaging.version instead.\n",
      "  other = LooseVersion(other)\n",
      "/home/heon/anaconda3/envs/camelyon/lib/python3.8/site-packages/seaborn/cm.py:1582: MatplotlibDeprecationWarning: The register_cmap function was deprecated in Matplotlib 3.7 and will be removed two minor releases later. Use ``matplotlib.colormaps.register(name)`` instead.\n",
      "  mpl_cm.register_cmap(_name, _cmap)\n",
      "/home/heon/anaconda3/envs/camelyon/lib/python3.8/site-packages/seaborn/cm.py:1583: MatplotlibDeprecationWarning: The register_cmap function was deprecated in Matplotlib 3.7 and will be removed two minor releases later. Use ``matplotlib.colormaps.register(name)`` instead.\n",
      "  mpl_cm.register_cmap(_name + \"_r\", _cmap_r)\n",
      "/home/heon/anaconda3/envs/camelyon/lib/python3.8/site-packages/seaborn/cm.py:1582: MatplotlibDeprecationWarning: The register_cmap function was deprecated in Matplotlib 3.7 and will be removed two minor releases later. Use ``matplotlib.colormaps.register(name)`` instead.\n",
      "  mpl_cm.register_cmap(_name, _cmap)\n",
      "/home/heon/anaconda3/envs/camelyon/lib/python3.8/site-packages/seaborn/cm.py:1583: MatplotlibDeprecationWarning: The register_cmap function was deprecated in Matplotlib 3.7 and will be removed two minor releases later. Use ``matplotlib.colormaps.register(name)`` instead.\n",
      "  mpl_cm.register_cmap(_name + \"_r\", _cmap_r)\n",
      "/home/heon/anaconda3/envs/camelyon/lib/python3.8/site-packages/seaborn/cm.py:1582: MatplotlibDeprecationWarning: The register_cmap function was deprecated in Matplotlib 3.7 and will be removed two minor releases later. Use ``matplotlib.colormaps.register(name)`` instead.\n",
      "  mpl_cm.register_cmap(_name, _cmap)\n",
      "/home/heon/anaconda3/envs/camelyon/lib/python3.8/site-packages/seaborn/cm.py:1583: MatplotlibDeprecationWarning: The register_cmap function was deprecated in Matplotlib 3.7 and will be removed two minor releases later. Use ``matplotlib.colormaps.register(name)`` instead.\n",
      "  mpl_cm.register_cmap(_name + \"_r\", _cmap_r)\n",
      "/home/heon/anaconda3/envs/camelyon/lib/python3.8/site-packages/seaborn/cm.py:1582: MatplotlibDeprecationWarning: The register_cmap function was deprecated in Matplotlib 3.7 and will be removed two minor releases later. Use ``matplotlib.colormaps.register(name)`` instead.\n",
      "  mpl_cm.register_cmap(_name, _cmap)\n",
      "/home/heon/anaconda3/envs/camelyon/lib/python3.8/site-packages/seaborn/cm.py:1583: MatplotlibDeprecationWarning: The register_cmap function was deprecated in Matplotlib 3.7 and will be removed two minor releases later. Use ``matplotlib.colormaps.register(name)`` instead.\n",
      "  mpl_cm.register_cmap(_name + \"_r\", _cmap_r)\n",
      "/home/heon/anaconda3/envs/camelyon/lib/python3.8/site-packages/seaborn/cm.py:1582: MatplotlibDeprecationWarning: The register_cmap function was deprecated in Matplotlib 3.7 and will be removed two minor releases later. Use ``matplotlib.colormaps.register(name)`` instead.\n",
      "  mpl_cm.register_cmap(_name, _cmap)\n",
      "/home/heon/anaconda3/envs/camelyon/lib/python3.8/site-packages/seaborn/cm.py:1583: MatplotlibDeprecationWarning: The register_cmap function was deprecated in Matplotlib 3.7 and will be removed two minor releases later. Use ``matplotlib.colormaps.register(name)`` instead.\n",
      "  mpl_cm.register_cmap(_name + \"_r\", _cmap_r)\n",
      "/home/heon/anaconda3/envs/camelyon/lib/python3.8/site-packages/seaborn/cm.py:1582: MatplotlibDeprecationWarning: The register_cmap function was deprecated in Matplotlib 3.7 and will be removed two minor releases later. Use ``matplotlib.colormaps.register(name)`` instead.\n",
      "  mpl_cm.register_cmap(_name, _cmap)\n",
      "/home/heon/anaconda3/envs/camelyon/lib/python3.8/site-packages/seaborn/cm.py:1583: MatplotlibDeprecationWarning: The register_cmap function was deprecated in Matplotlib 3.7 and will be removed two minor releases later. Use ``matplotlib.colormaps.register(name)`` instead.\n",
      "  mpl_cm.register_cmap(_name + \"_r\", _cmap_r)\n"
     ]
    }
   ],
   "source": [
    "import pandas as pd\n",
    "import numpy as np\n",
    "import matplotlib.pyplot as plt\n",
    "import seaborn as sns\n",
    "\n",
    "# 1) 데이터 로드 & 필터링\n",
    "df = pd.read_csv('/vast/AI_team/gshwang/code/250429_attinduc_anno_test/notebooks/JofPATH/250519_experiments.csv')\n",
    "df = df[\n",
    "    (df['dataset'] == 'camelyon') &\n",
    "    (df['sampling_ratio'] == 1) &\n",
    "    (df['morphology_value'] == 0) &\n",
    "    (df['model'].isin(['abmil', 'rank'])) &\n",
    "    (df['random_state'].between(2018, 2027))\n",
    "]\n",
    "\n",
    "# 2) 모델 이름 매핑\n",
    "df['Model'] = df['model'].map({\n",
    "    'abmil': 'AB-MIL',\n",
    "    'rank':  'Rank Induction'\n",
    "})\n",
    "\n",
    "# 3) AB-MIL 은 anno_ratio=0 으로 처리\n",
    "df.loc[df['Model']=='AB-MIL', 'anno_ratio'] = 0.0\n",
    "\n",
    "# 4) melt: AUROC/AUPRC long 포맷\n",
    "df_long = df.melt(\n",
    "    id_vars=['Model','anno_ratio'], \n",
    "    value_vars=['auroc','auprc'], \n",
    "    var_name='Metric', \n",
    "    value_name='Metric Value'\n",
    ")\n",
    "df_long['Metric'] = df_long['Metric'].map({'auroc':'AUROC','auprc':'AUPRC'})\n",
    "\n",
    "# 5) x축 순서 (0부터 시작)\n",
    "anno_order = sorted(df_long['anno_ratio'].unique())\n"
   ]
  },
  {
   "cell_type": "code",
   "execution_count": 24,
   "id": "929536cc",
   "metadata": {},
   "outputs": [
    {
     "data": {
      "text/html": [
       "<div>\n",
       "<style scoped>\n",
       "    .dataframe tbody tr th:only-of-type {\n",
       "        vertical-align: middle;\n",
       "    }\n",
       "\n",
       "    .dataframe tbody tr th {\n",
       "        vertical-align: top;\n",
       "    }\n",
       "\n",
       "    .dataframe thead th {\n",
       "        text-align: right;\n",
       "    }\n",
       "</style>\n",
       "<table border=\"1\" class=\"dataframe\">\n",
       "  <thead>\n",
       "    <tr style=\"text-align: right;\">\n",
       "      <th></th>\n",
       "      <th>Model</th>\n",
       "      <th>Fraction of Annotated WSIs</th>\n",
       "      <th>Metric</th>\n",
       "      <th>AUROC</th>\n",
       "    </tr>\n",
       "  </thead>\n",
       "  <tbody>\n",
       "    <tr>\n",
       "      <th>0</th>\n",
       "      <td>Rank Induction</td>\n",
       "      <td>1.00</td>\n",
       "      <td>AUROC</td>\n",
       "      <td>0.863520</td>\n",
       "    </tr>\n",
       "    <tr>\n",
       "      <th>1</th>\n",
       "      <td>Rank Induction</td>\n",
       "      <td>0.05</td>\n",
       "      <td>AUROC</td>\n",
       "      <td>0.795153</td>\n",
       "    </tr>\n",
       "  </tbody>\n",
       "</table>\n",
       "</div>"
      ],
      "text/plain": [
       "            Model  Fraction of Annotated WSIs Metric     AUROC\n",
       "0  Rank Induction                        1.00  AUROC  0.863520\n",
       "1  Rank Induction                        0.05  AUROC  0.795153"
      ]
     },
     "execution_count": 24,
     "metadata": {},
     "output_type": "execute_result"
    }
   ],
   "source": [
    "rank_induction_df = df_long.loc[\n",
    "    (df_long[\"Model\"] == \"Rank Induction\") & \n",
    "    (df_long[\"Metric\"] == \"AUROC\")\n",
    "].copy()\n",
    "rank_induction_df.rename(\n",
    "    columns={\n",
    "        \"anno_ratio\": \"Fraction of Annotated WSIs\",\n",
    "        \"Metric Value\": \"AUROC\",\n",
    "        }, inplace=True\n",
    ")\n",
    "rank_induction_df.head(2)"
   ]
  },
  {
   "cell_type": "code",
   "execution_count": 27,
   "id": "c4b6948b",
   "metadata": {},
   "outputs": [
    {
     "data": {
      "text/plain": [
       "<Axes: xlabel='Fraction of Annotated WSIs', ylabel='AUROC'>"
      ]
     },
     "execution_count": 27,
     "metadata": {},
     "output_type": "execute_result"
    },
    {
     "data": {
      "image/png": "[encoded data removed]",
      "text/plain": [
       "<Figure size 640x480 with 1 Axes>"
      ]
     },
     "metadata": {},
     "output_type": "display_data"
    }
   ],
   "source": [
    "from tableone import TableOne\n",
    "import pandas as pd\n",
    "data = pd.DataFrame(rows)\n",
    "data[\"Model\"] = \"Fully supervised learning\"\n",
    "data.rename(columns={\"auroc\": \"AUROC\", \"sampling_ratio\":\"Fraction of Annotated WSIs\"}, inplace=True)\n",
    "\n",
    "plot_df = pd.concat([rank_induction_df, data], ignore_index=True)\n",
    "\n",
    "sns.lineplot(\n",
    "    data=plot_df,\n",
    "    x=\"Fraction of Annotated WSIs\",\n",
    "    y=\"AUROC\",\n",
    "    hue=\"Model\",\n",
    "    style=\"Model\",\n",
    "    markers=True,\n",
    "    dashes=False,\n",
    "    palette=[\"#ff7f0e\", \"#1f77b4\"],\n",
    ")\n",
    "\n",
    "# TableOne(data, groupby=\"sampling_ratio\", missing=False, overall=False, decimals=4)"
   ]
  },
  {
   "cell_type": "code",
   "execution_count": 30,
   "id": "46ccf341",
   "metadata": {},
   "outputs": [
    {
     "name": "stderr",
     "output_type": "stream",
     "text": [
      "/tmp/ipykernel_2399105/2891364072.py:1: FutureWarning: The default value of numeric_only in DataFrameGroupBy.mean is deprecated. In a future version, numeric_only will default to False. Either specify numeric_only or select only columns which should be valid for the function.\n",
      "  plot_df.groupby([\"Model\", \"Fraction of Annotated WSIs\"]).mean()\n"
     ]
    },
    {
     "data": {
      "text/html": [
       "<div>\n",
       "<style scoped>\n",
       "    .dataframe tbody tr th:only-of-type {\n",
       "        vertical-align: middle;\n",
       "    }\n",
       "\n",
       "    .dataframe tbody tr th {\n",
       "        vertical-align: top;\n",
       "    }\n",
       "\n",
       "    .dataframe thead th {\n",
       "        text-align: right;\n",
       "    }\n",
       "</style>\n",
       "<table border=\"1\" class=\"dataframe\">\n",
       "  <thead>\n",
       "    <tr style=\"text-align: right;\">\n",
       "      <th></th>\n",
       "      <th></th>\n",
       "      <th>AUROC</th>\n",
       "      <th>auprc</th>\n",
       "    </tr>\n",
       "    <tr>\n",
       "      <th>Model</th>\n",
       "      <th>Fraction of Annotated WSIs</th>\n",
       "      <th></th>\n",
       "      <th></th>\n",
       "    </tr>\n",
       "  </thead>\n",
       "  <tbody>\n",
       "    <tr>\n",
       "      <th rowspan=\"5\" valign=\"top\">Fully supervised learning</th>\n",
       "      <th>0.05</th>\n",
       "      <td>0.557292</td>\n",
       "      <td>0.530020</td>\n",
       "    </tr>\n",
       "    <tr>\n",
       "      <th>0.1</th>\n",
       "      <td>0.729257</td>\n",
       "      <td>0.690326</td>\n",
       "    </tr>\n",
       "    <tr>\n",
       "      <th>0.2</th>\n",
       "      <td>0.809503</td>\n",
       "      <td>0.779065</td>\n",
       "    </tr>\n",
       "    <tr>\n",
       "      <th>0.5</th>\n",
       "      <td>0.863122</td>\n",
       "      <td>0.846082</td>\n",
       "    </tr>\n",
       "    <tr>\n",
       "      <th>1.0</th>\n",
       "      <td>0.892620</td>\n",
       "      <td>0.882746</td>\n",
       "    </tr>\n",
       "    <tr>\n",
       "      <th rowspan=\"7\" valign=\"top\">Rank Induction</th>\n",
       "      <th>0.05</th>\n",
       "      <td>0.787372</td>\n",
       "      <td>NaN</td>\n",
       "    </tr>\n",
       "    <tr>\n",
       "      <th>0.1</th>\n",
       "      <td>0.802270</td>\n",
       "      <td>NaN</td>\n",
       "    </tr>\n",
       "    <tr>\n",
       "      <th>0.2</th>\n",
       "      <td>0.816964</td>\n",
       "      <td>NaN</td>\n",
       "    </tr>\n",
       "    <tr>\n",
       "      <th>0.4</th>\n",
       "      <td>0.827066</td>\n",
       "      <td>NaN</td>\n",
       "    </tr>\n",
       "    <tr>\n",
       "      <th>0.6</th>\n",
       "      <td>0.831709</td>\n",
       "      <td>NaN</td>\n",
       "    </tr>\n",
       "    <tr>\n",
       "      <th>0.8</th>\n",
       "      <td>0.823469</td>\n",
       "      <td>NaN</td>\n",
       "    </tr>\n",
       "    <tr>\n",
       "      <th>1.0</th>\n",
       "      <td>0.839541</td>\n",
       "      <td>NaN</td>\n",
       "    </tr>\n",
       "  </tbody>\n",
       "</table>\n",
       "</div>"
      ],
      "text/plain": [
       "                                                         AUROC     auprc\n",
       "Model                     Fraction of Annotated WSIs                    \n",
       "Fully supervised learning 0.05                        0.557292  0.530020\n",
       "                          0.1                         0.729257  0.690326\n",
       "                          0.2                         0.809503  0.779065\n",
       "                          0.5                         0.863122  0.846082\n",
       "                          1.0                         0.892620  0.882746\n",
       "Rank Induction            0.05                        0.787372       NaN\n",
       "                          0.1                         0.802270       NaN\n",
       "                          0.2                         0.816964       NaN\n",
       "                          0.4                         0.827066       NaN\n",
       "                          0.6                         0.831709       NaN\n",
       "                          0.8                         0.823469       NaN\n",
       "                          1.0                         0.839541       NaN"
      ]
     },
     "execution_count": 30,
     "metadata": {},
     "output_type": "execute_result"
    }
   ],
   "source": [
    "plot_df.groupby([\"Model\", \"Fraction of Annotated WSIs\"]).mean()"
   ]
  }
 ],
 "metadata": {
  "kernelspec": {
   "display_name": "camelyon",
   "language": "python",
   "name": "python3"
  },
  "language_info": {
   "codemirror_mode": {
    "name": "ipython",
    "version": 3
   },
   "file_extension": ".py",
   "mimetype": "text/x-python",
   "name": "python",
   "nbconvert_exporter": "python",
   "pygments_lexer": "ipython3",
   "version": "3.8.19"
  }
 },
 "nbformat": 4,
 "nbformat_minor": 5
}
