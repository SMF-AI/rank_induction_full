{
 "cells": [
  {
   "cell_type": "code",
   "execution_count": 1,
   "metadata": {},
   "outputs": [],
   "source": [
    "%load_ext autoreload\n",
    "%autoreload 2"
   ]
  },
  {
   "cell_type": "code",
   "execution_count": 11,
   "metadata": {},
   "outputs": [
    {
     "data": {
      "text/plain": [
       "tensor([0.1257, 0.1444, 0.0983, 0.0966, 0.1180, 0.2054, 0.2117])"
      ]
     },
     "execution_count": 11,
     "metadata": {},
     "output_type": "execute_result"
    }
   ],
   "source": [
    "torch.softmax(torch.rand((7, )), dim=0)"
   ]
  },
  {
   "cell_type": "code",
   "execution_count": 2,
   "metadata": {},
   "outputs": [
    {
     "name": "stdout",
     "output_type": "stream",
     "text": [
      "torch.Size([7])\n",
      "(tensor([0.6744]), tensor([0.1470, 0.1183, 0.1319, 0.1591, 0.1512, 0.1560, 0.1365]))\n"
     ]
    }
   ],
   "source": [
    "import torch\n",
    "from camelyon.networks.mil import AttentionBasedFeatureMIL\n",
    "\n",
    "model = AttentionBasedFeatureMIL(encoder_dim=512, num_classes=1, return_with=\"attention_weight\")\n",
    "\n",
    "with torch.no_grad():\n",
    "    y = model(torch.rand(7, 512))\n",
    "    print(y)"
   ]
  }
 ],
 "metadata": {
  "kernelspec": {
   "display_name": "camelyon",
   "language": "python",
   "name": "python3"
  },
  "language_info": {
   "codemirror_mode": {
    "name": "ipython",
    "version": 3
   },
   "file_extension": ".py",
   "mimetype": "text/x-python",
   "name": "python",
   "nbconvert_exporter": "python",
   "pygments_lexer": "ipython3",
   "version": "3.8.19"
  }
 },
 "nbformat": 4,
 "nbformat_minor": 2
}
