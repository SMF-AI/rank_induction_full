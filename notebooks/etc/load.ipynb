{
 "cells": [
  {
   "cell_type": "code",
   "execution_count": 2,
   "metadata": {},
   "outputs": [],
   "source": [
    "import glob\n",
    "import numpy as np\n",
    "\n",
    "feature = np.stack([np.load(path) for path in glob.glob(\"/vast/AI_team/dataset/CAMELYON16/feature/resnet50_40x/test/M/test_122/*\")])"
   ]
  },
  {
   "cell_type": "code",
   "execution_count": 3,
   "metadata": {},
   "outputs": [
    {
     "name": "stdout",
     "output_type": "stream",
     "text": [
      "122 ms ± 1.9 ms per loop (mean ± std. dev. of 7 runs, 10 loops each)\n"
     ]
    }
   ],
   "source": [
    "%%timeit -n 10\n",
    "\n",
    "import h5py\n",
    "h5_path = \"features.h5\"\n",
    "with h5py.File(h5_path, \"r\") as h5f:\n",
    "    loaded_feature = h5f[\"features\"][:]"
   ]
  }
 ],
 "metadata": {
  "kernelspec": {
   "display_name": "camelyon",
   "language": "python",
   "name": "python3"
  },
  "language_info": {
   "codemirror_mode": {
    "name": "ipython",
    "version": 3
   },
   "file_extension": ".py",
   "mimetype": "text/x-python",
   "name": "python",
   "nbconvert_exporter": "python",
   "pygments_lexer": "ipython3",
   "version": "3.8.19"
  }
 },
 "nbformat": 4,
 "nbformat_minor": 2
}
