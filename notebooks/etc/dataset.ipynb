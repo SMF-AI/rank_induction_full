{
 "cells": [
  {
   "cell_type": "code",
   "execution_count": 1,
   "metadata": {},
   "outputs": [],
   "source": [
    "%load_ext autoreload\n",
    "%autoreload 2"
   ]
  },
  {
   "cell_type": "code",
   "execution_count": 3,
   "metadata": {},
   "outputs": [
    {
     "data": {
      "text/plain": [
       "torch.Size([399, 1])"
      ]
     },
     "execution_count": 3,
     "metadata": {},
     "output_type": "execute_result"
    }
   ],
   "source": [
    "from camelyon.datasets import MILDataset\n",
    "\n",
    "dataset = MILDataset(\"/vast/AI_team/dataset/CAMELYON16/feature/resnet50_3rd_20x_h5\")\n",
    "dataset.bag_labels.shape"
   ]
  },
  {
   "cell_type": "code",
   "execution_count": 9,
   "metadata": {},
   "outputs": [],
   "source": [
    "import torch\n",
    "import torch.utils\n",
    "from camelyon.datasets import get_balanced_weight_sequence\n",
    "\n",
    "weights = get_balanced_weight_sequence(dataset)\n",
    "sampler = torch.utils.data.WeightedRandomSampler(weights, len(weights))\n",
    "dataloader = torch.utils.data.DataLoader(dataset, sampler=sampler)\n",
    "for batch in dataloader:\n",
    "    break"
   ]
  },
  {
   "cell_type": "code",
   "execution_count": 12,
   "metadata": {},
   "outputs": [
    {
     "data": {
      "text/plain": [
       "[tensor([[[0.0597, 0.0010, 0.0007,  ..., 0.0030, 0.0213, 0.0610],\n",
       "          [0.0746, 0.0073, 0.0039,  ..., 0.0131, 0.0400, 0.0492],\n",
       "          [0.0761, 0.0111, 0.0263,  ..., 0.0027, 0.0238, 0.0210],\n",
       "          ...,\n",
       "          [0.0795, 0.0132, 0.0189,  ..., 0.0023, 0.0183, 0.0028],\n",
       "          [0.0903, 0.0018, 0.0160,  ..., 0.0044, 0.0296, 0.0382],\n",
       "          [0.0824, 0.0051, 0.0188,  ..., 0.0297, 0.0182, 0.0041]]],\n",
       "        device='cuda:0'),\n",
       " tensor([[0.]], device='cuda:0')]"
      ]
     },
     "execution_count": 12,
     "metadata": {},
     "output_type": "execute_result"
    }
   ],
   "source": [
    "batch"
   ]
  }
 ],
 "metadata": {
  "kernelspec": {
   "display_name": "camelyon",
   "language": "python",
   "name": "python3"
  },
  "language_info": {
   "codemirror_mode": {
    "name": "ipython",
    "version": 3
   },
   "file_extension": ".py",
   "mimetype": "text/x-python",
   "name": "python",
   "nbconvert_exporter": "python",
   "pygments_lexer": "ipython3",
   "version": "3.8.19"
  }
 },
 "nbformat": 4,
 "nbformat_minor": 2
}
